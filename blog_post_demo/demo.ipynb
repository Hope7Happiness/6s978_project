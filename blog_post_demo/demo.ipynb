{
  "nbformat": 4,
  "nbformat_minor": 0,
  "metadata": {
    "colab": {
      "provenance": [],
      "machine_shape": "hm",
      "gpuType": "A100"
    },
    "kernelspec": {
      "name": "python3",
      "display_name": "Python 3"
    },
    "language_info": {
      "name": "python"
    },
    "accelerator": "GPU"
  },
  "cells": [
    {
      "cell_type": "code",
      "source": [
        "!nvidia-smi"
      ],
      "metadata": {
        "colab": {
          "base_uri": "https://localhost:8080/"
        },
        "id": "ifDQKIvrQ_8K",
        "outputId": "3b330fce-5124-4a70-cbab-2b3a2983ad5a"
      },
      "execution_count": 1,
      "outputs": [
        {
          "output_type": "stream",
          "name": "stdout",
          "text": [
            "Mon Dec  9 02:52:34 2024       \n",
            "+---------------------------------------------------------------------------------------+\n",
            "| NVIDIA-SMI 535.104.05             Driver Version: 535.104.05   CUDA Version: 12.2     |\n",
            "|-----------------------------------------+----------------------+----------------------+\n",
            "| GPU  Name                 Persistence-M | Bus-Id        Disp.A | Volatile Uncorr. ECC |\n",
            "| Fan  Temp   Perf          Pwr:Usage/Cap |         Memory-Usage | GPU-Util  Compute M. |\n",
            "|                                         |                      |               MIG M. |\n",
            "|=========================================+======================+======================|\n",
            "|   0  NVIDIA A100-SXM4-40GB          Off | 00000000:00:04.0 Off |                    0 |\n",
            "| N/A   31C    P0              42W / 350W |      2MiB / 40960MiB |      0%      Default |\n",
            "|                                         |                      |             Disabled |\n",
            "+-----------------------------------------+----------------------+----------------------+\n",
            "                                                                                         \n",
            "+---------------------------------------------------------------------------------------+\n",
            "| Processes:                                                                            |\n",
            "|  GPU   GI   CI        PID   Type   Process name                            GPU Memory |\n",
            "|        ID   ID                                                             Usage      |\n",
            "|=======================================================================================|\n",
            "|  No running processes found                                                           |\n",
            "+---------------------------------------------------------------------------------------+\n"
          ]
        }
      ]
    },
    {
      "cell_type": "markdown",
      "source": [
        "# Dataset"
      ],
      "metadata": {
        "id": "mKpzqXFqRjW5"
      }
    },
    {
      "cell_type": "code",
      "execution_count": 2,
      "metadata": {
        "colab": {
          "base_uri": "https://localhost:8080/"
        },
        "id": "6A9szcrTQxIr",
        "outputId": "99316586-2cb8-4c28-827a-33b5afcb49ea"
      },
      "outputs": [
        {
          "output_type": "stream",
          "name": "stdout",
          "text": [
            "Downloading https://www.cs.toronto.edu/~kriz/cifar-10-python.tar.gz to ./data/cifar-10-python.tar.gz\n"
          ]
        },
        {
          "output_type": "stream",
          "name": "stderr",
          "text": [
            "100%|██████████| 170M/170M [00:01<00:00, 98.3MB/s]\n"
          ]
        },
        {
          "output_type": "stream",
          "name": "stdout",
          "text": [
            "Extracting ./data/cifar-10-python.tar.gz to ./data\n"
          ]
        },
        {
          "output_type": "execute_result",
          "data": {
            "text/plain": [
              "50000"
            ]
          },
          "metadata": {},
          "execution_count": 2
        }
      ],
      "source": [
        "# CIFAR 10 dataset\n",
        "import torchvision\n",
        "from torchvision import transforms\n",
        "custom_transform = transforms.Compose([\n",
        "    transforms.ToTensor(),\n",
        "    # -0.5 then /0.5\n",
        "    transforms.Normalize(mean=(0.5, 0.5, 0.5), std=(0.5, 0.5, 0.5))\n",
        "])\n",
        "import os\n",
        "cifar = torchvision.datasets.CIFAR10('./data', download=True, transform=custom_transform)\n",
        "len(cifar)"
      ]
    },
    {
      "cell_type": "code",
      "source": [
        "import torch\n",
        "#\n",
        "dl = torch.utils.data.DataLoader(cifar, batch_size=512, shuffle=False, num_workers=32)\n",
        "# visualize first batch\n",
        "x,_ = next(iter(dl))\n",
        "x.shape, x.min(), x.max()"
      ],
      "metadata": {
        "colab": {
          "base_uri": "https://localhost:8080/"
        },
        "id": "NvKryBDaRKSG",
        "outputId": "6f6f7450-b5f3-4ab6-a061-9b1c08d2e831"
      },
      "execution_count": 3,
      "outputs": [
        {
          "output_type": "stream",
          "name": "stderr",
          "text": [
            "/usr/local/lib/python3.10/dist-packages/torch/utils/data/dataloader.py:617: UserWarning: This DataLoader will create 32 worker processes in total. Our suggested max number of worker in current system is 12, which is smaller than what this DataLoader is going to create. Please be aware that excessive worker creation might get DataLoader running slow or even freeze, lower the worker number to avoid potential slowness/freeze if necessary.\n",
            "  warnings.warn(\n"
          ]
        },
        {
          "output_type": "execute_result",
          "data": {
            "text/plain": [
              "(torch.Size([512, 3, 32, 32]), tensor(-1.), tensor(1.))"
            ]
          },
          "metadata": {},
          "execution_count": 3
        }
      ]
    },
    {
      "cell_type": "code",
      "source": [
        "def show_single_image(im):\n",
        "  assert im.shape == (3, 32, 32)\n",
        "  im = im.permute(1, 2, 0)\n",
        "  im = im * 0.5 + 0.5\n",
        "  from matplotlib import pyplot as plt\n",
        "  plt.figure(figsize=(2, 2))\n",
        "  plt.imshow(im)\n",
        "  plt.axis('off')\n",
        "  plt.show()"
      ],
      "metadata": {
        "id": "-6_gO5ysUXdV"
      },
      "execution_count": 4,
      "outputs": []
    },
    {
      "cell_type": "code",
      "source": [
        "# pick a random data point\n",
        "data_0 = x[1]\n",
        "show_single_image(data_0)"
      ],
      "metadata": {
        "colab": {
          "base_uri": "https://localhost:8080/",
          "height": 191
        },
        "id": "P6IN9bUwUZsl",
        "outputId": "3f400984-d8fd-43ad-b2d4-96ffa1d1f2c6"
      },
      "execution_count": 5,
      "outputs": [
        {
          "output_type": "display_data",
          "data": {
            "text/plain": [
              "<Figure size 200x200 with 1 Axes>"
            ],
            "image/png": "[encoded data removed]"
          },
          "metadata": {}
        }
      ]
    },
    {
      "cell_type": "markdown",
      "source": [
        "# Run our demonstration"
      ],
      "metadata": {
        "id": "zJAMx3XDRll3"
      }
    },
    {
      "cell_type": "code",
      "source": [
        "CT = 0.2\n",
        "DT = 0.8"
      ],
      "metadata": {
        "id": "c8j7dEz0Ubz3"
      },
      "execution_count": 6,
      "outputs": []
    },
    {
      "cell_type": "code",
      "source": [
        "# add noise\n",
        "noisy = CT * data_0 + DT * torch.randn_like(data_0)\n",
        "show_single_image(noisy)"
      ],
      "metadata": {
        "colab": {
          "base_uri": "https://localhost:8080/",
          "height": 208
        },
        "id": "vyaTMiHmSEEO",
        "outputId": "706ca87a-fc4a-4672-b42b-19a8b020fa36"
      },
      "execution_count": 7,
      "outputs": [
        {
          "output_type": "stream",
          "name": "stderr",
          "text": [
            "WARNING:matplotlib.image:Clipping input data to the valid range for imshow with RGB data ([0..1] for floats or [0..255] for integers).\n"
          ]
        },
        {
          "output_type": "display_data",
          "data": {
            "text/plain": [
              "<Figure size 200x200 with 1 Axes>"
            ],
            "image/png": "[encoded data removed]"
          },
          "metadata": {}
        }
      ]
    },
    {
      "cell_type": "code",
      "source": [
        "# find top3 neighbors\n",
        "@torch.no_grad()\n",
        "def nearest_neighbor(x,k=3,ct=CT,dt=DT):\n",
        "    # x: [3, 32, 32]\n",
        "    # data: [D, 3, 32, 32]\n",
        "    assert x.ndim == 3\n",
        "    x = x.cuda().unsqueeze(0) # [1, 3, 32, 32]\n",
        "    scores = []\n",
        "    for _,(data_batch, _) in zip(range(len(dl)),dl):\n",
        "        data = data_batch.cuda()\n",
        "        score = -((x.unsqueeze(1)-data.unsqueeze(0)*ct)**2).sum(dim=(-1,-2,-3))/(2*(dt**2)) # [1, D, 3, 32, 32] -> [N, D]\n",
        "        scores.append(score.cpu())\n",
        "    weights = torch.cat(scores,dim=1).cuda()\n",
        "    weights = torch.softmax(weights,dim=-1) # [1, D]\n",
        "    tpk = torch.topk(weights,k=k,dim=-1)\n",
        "    inds = tpk.indices # [1, k]\n",
        "    vals = tpk.values\n",
        "    images = [cifar[w.item()][0] for w in inds.reshape(-1)] # len k, [3, 32, 32]\n",
        "    return torch.stack(images), vals.reshape(-1)"
      ],
      "metadata": {
        "id": "CkJ6Kx6GSN8H"
      },
      "execution_count": 8,
      "outputs": []
    },
    {
      "cell_type": "code",
      "source": [
        "(n1, n2, n3), (s1, s2, s3) = nearest_neighbor(noisy)\n",
        "print('first score:', s1.item())\n",
        "show_single_image(n1)\n",
        "print('second score:', s2.item())\n",
        "show_single_image(n2)\n",
        "print('third score:', s3.item())\n",
        "show_single_image(n3)"
      ],
      "metadata": {
        "colab": {
          "base_uri": "https://localhost:8080/",
          "height": 591
        },
        "id": "RHABKigXTHBf",
        "outputId": "a281348e-3872-4d65-81d3-21441362691d"
      },
      "execution_count": 9,
      "outputs": [
        {
          "output_type": "stream",
          "name": "stdout",
          "text": [
            "first score: 0.9999068975448608\n"
          ]
        },
        {
          "output_type": "display_data",
          "data": {
            "text/plain": [
              "<Figure size 200x200 with 1 Axes>"
            ],
            "image/png": "[encoded data removed]"
          },
          "metadata": {}
        },
        {
          "output_type": "stream",
          "name": "stdout",
          "text": [
            "second score: 2.851212957466487e-05\n"
          ]
        },
        {
          "output_type": "display_data",
          "data": {
            "text/plain": [
              "<Figure size 200x200 with 1 Axes>"
            ],
            "image/png": "[encoded data removed]"
          },
          "metadata": {}
        },
        {
          "output_type": "stream",
          "name": "stdout",
          "text": [
            "third score: 1.999721825995948e-05\n"
          ]
        },
        {
          "output_type": "display_data",
          "data": {
            "text/plain": [
              "<Figure size 200x200 with 1 Axes>"
            ],
            "image/png": "[encoded data removed]"
          },
          "metadata": {}
        }
      ]
    },
    {
      "cell_type": "code",
      "source": [
        "print('ratio:', s1.item() / s2.item())"
      ],
      "metadata": {
        "colab": {
          "base_uri": "https://localhost:8080/"
        },
        "id": "NEs7kfg2TVdb",
        "outputId": "447b9d4d-7a4a-43ce-a36e-f2f6250b0ac9"
      },
      "execution_count": 10,
      "outputs": [
        {
          "output_type": "stream",
          "name": "stdout",
          "text": [
            "ratio: 35069.52698592363\n"
          ]
        }
      ]
    },
    {
      "cell_type": "code",
      "source": [
        "print('distance 1:', (torch.sqrt(((n1*CT-noisy)**2).sum())).item())\n",
        "print('distance 2:', (torch.sqrt(((n2*CT-noisy)**2).sum())).item())\n",
        "print('distance 3:', (torch.sqrt(((n3*CT-noisy)**2).sum())).item())"
      ],
      "metadata": {
        "colab": {
          "base_uri": "https://localhost:8080/"
        },
        "id": "xWMpDtYSTy_2",
        "outputId": "95382127-a089-433c-c6c6-99b25a42b029"
      },
      "execution_count": 12,
      "outputs": [
        {
          "output_type": "stream",
          "name": "stdout",
          "text": [
            "distance 1: 44.243751525878906\n",
            "distance 2: 44.394874572753906\n",
            "distance 3: 44.39999008178711\n"
          ]
        }
      ]
    },
    {
      "cell_type": "markdown",
      "source": [
        "## Explanation\n",
        "\n",
        "You can see that the ratio is quite unbalanced (on the order of $10^4$), which matches the explanation in our blog post. Also, the distance themselves doesn't have too much variations, but the probabilities have a very large difference."
      ],
      "metadata": {
        "id": "W0ofMQtWVcYs"
      }
    }
  ]
}